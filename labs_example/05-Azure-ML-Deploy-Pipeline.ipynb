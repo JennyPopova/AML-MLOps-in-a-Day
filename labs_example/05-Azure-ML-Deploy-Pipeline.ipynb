{
  "cells": [
    {
      "cell_type": "markdown",
      "source": [
        "# Azure Machine Learning Deployment Pipeline\r\n",
        "\r\n",
        " In this notebook, we will be creating a Azure Machine Learning Pipeline for the complete stage of machine learning lifecycle:\r\n",
        " \r\n",
        " 1. Data Engineering\r\n",
        " 2. Model Training\r\n",
        " 3. Model Management\r\n",
        " 4. Model Deployment (to same environment)\r\n",
        " \r\n",
        "![Data Engineering](./images/00-Pipeline.jpg)"
      ],
      "metadata": {
        "nteract": {
          "transient": {
            "deleting": false
          }
        }
      }
    },
    {
      "cell_type": "markdown",
      "source": [
        "## Prepare for Model Package"
      ],
      "metadata": {
        "nteract": {
          "transient": {
            "deleting": false
          }
        }
      }
    },
    {
      "cell_type": "code",
      "source": [
        "import os\r\n",
        "if not os.path.exists('model_deploy'):\r\n",
        "    os.makedirs('model_deploy')"
      ],
      "outputs": [],
      "execution_count": 1,
      "metadata": {
        "jupyter": {
          "source_hidden": false,
          "outputs_hidden": false
        },
        "nteract": {
          "transient": {
            "deleting": false
          }
        },
        "gather": {
          "logged": 1646924949367
        }
      }
    },
    {
      "cell_type": "code",
      "source": [
        "%%writefile model_deploy/score.py\r\n",
        "import json, os, joblib\r\n",
        "from azureml.core.model import Model\r\n",
        "\r\n",
        "def init(): \r\n",
        "  global vec, clf\r\n",
        "  print(Model.get_model_path('ProductReview-NaiveBayes'))\r\n",
        "  vec = joblib.load(Model.get_model_path('ProductReview-CountVector'))\r\n",
        "  clf = joblib.load(Model.get_model_path('ProductReview-NaiveBayes'))\r\n",
        "\r\n",
        "def run(data): \r\n",
        "  input_data = json.loads(data)['data'] \r\n",
        "  fitted_data = vec.transform(input_data)\r\n",
        "  pred = clf.predict(fitted_data)\r\n",
        "  return json.dumps(pred.tolist())\r\n"
      ],
      "outputs": [
        {
          "output_type": "stream",
          "name": "stdout",
          "text": "Overwriting model_deploy/score.py\n"
        }
      ],
      "execution_count": 2,
      "metadata": {
        "jupyter": {
          "source_hidden": false,
          "outputs_hidden": false
        },
        "nteract": {
          "transient": {
            "deleting": false
          }
        }
      }
    },
    {
      "cell_type": "code",
      "source": [
        "%%writefile model_deploy/deploy.py\r\n",
        "from azureml.core.model import InferenceConfig, Model\r\n",
        "from azureml.core import Environment\r\n",
        "from azureml.core.run import Run\r\n",
        "from azureml.core.webservice import AciWebservice\r\n",
        "\r\n",
        "# get run context\r\n",
        "run = Run.get_context()\r\n",
        "workspace = run.experiment.workspace\r\n",
        "\r\n",
        "service_name = 'product-review-service'\r\n",
        "env = Environment.get(workspace=workspace, name=\"AzureML-sklearn-0.24-ubuntu18.04-py37-cpu\")\r\n",
        "\r\n",
        "inference_config = InferenceConfig(entry_script='score.py', \r\n",
        "                            source_directory='.',\r\n",
        "                            environment=env)\r\n",
        "\r\n",
        "deployment_config = AciWebservice.deploy_configuration(cpu_cores=1, memory_gb=1)\r\n",
        "\r\n",
        "nb_model = Model(workspace, 'ProductReview-NaiveBayes')\r\n",
        "vectorizor = Model(workspace, 'ProductReview-CountVector')\r\n",
        "\r\n",
        "service = Model.deploy(\r\n",
        "    workspace,\r\n",
        "    name = service_name,\r\n",
        "    models=[nb_model, vectorizor],\r\n",
        "    inference_config= inference_config,\r\n",
        "    deployment_config= deployment_config,\r\n",
        "    overwrite=True,\r\n",
        ")\r\n",
        "service.wait_for_deployment(show_output=True)"
      ],
      "outputs": [
        {
          "output_type": "stream",
          "name": "stdout",
          "text": "Overwriting model_deploy/deploy.py\n"
        }
      ],
      "execution_count": 3,
      "metadata": {
        "jupyter": {
          "source_hidden": false,
          "outputs_hidden": false
        },
        "nteract": {
          "transient": {
            "deleting": false
          }
        }
      }
    },
    {
      "cell_type": "code",
      "source": [
        "from azureml.pipeline.steps import PythonScriptStep\r\n",
        "from azureml.pipeline.core import Pipeline, PipelineData\r\n",
        "import azureml.core\r\n",
        "from azureml.core import Workspace, Environment, Experiment\r\n",
        "from azureml.core.compute import ComputeTarget, AmlCompute\r\n",
        "from azureml.core.compute_target import ComputeTargetException\r\n",
        "from azureml.core.runconfig import RunConfiguration\r\n",
        "import os\r\n",
        "\r\n",
        "workspace = Workspace.from_config()\r\n",
        "# Get ComputeTarget\r\n",
        "aml_compute_target = \"cpu-cluster\"\r\n",
        "try:\r\n",
        "    aml_compute = AmlCompute(workspace, aml_compute_target)\r\n",
        "    print(\"found existing compute target.\")\r\n",
        "except ComputeTargetException:\r\n",
        "    print(\"creating new compute target\")\r\n",
        "    \r\n",
        "    provisioning_config = AmlCompute.provisioning_configuration(vm_size = \"STANDARD_D2_V2\",\r\n",
        "                                                                min_nodes = 1, \r\n",
        "                                                                max_nodes = 4)    \r\n",
        "    aml_compute = ComputeTarget.create(workspace, aml_compute_target, provisioning_config)\r\n",
        "    aml_compute.wait_for_completion(show_output=True, min_node_count=None, timeout_in_minutes=20)\r\n",
        "    \r\n",
        "print(\"Azure Machine Learning Compute attached\")\r\n",
        "\r\n",
        "env = Environment.get(workspace=workspace, name=\"AzureML-sklearn-0.24-ubuntu18.04-py37-cpu\")\r\n",
        "# create a new runconfig object\r\n",
        "runconfig = RunConfiguration()\r\n",
        "runconfig.environment = env\r\n"
      ],
      "outputs": [
        {
          "output_type": "stream",
          "name": "stdout",
          "text": "found existing compute target.\nAzure Machine Learning Compute attached\n"
        }
      ],
      "execution_count": 4,
      "metadata": {
        "jupyter": {
          "source_hidden": false,
          "outputs_hidden": false
        },
        "nteract": {
          "transient": {
            "deleting": false
          }
        },
        "gather": {
          "logged": 1646924951978
        }
      }
    },
    {
      "cell_type": "code",
      "source": [
        "deploy_step   = PythonScriptStep( name=\"deploy_model\", \r\n",
        "                                script_name=\"deploy.py\", \r\n",
        "\t                            source_directory=\"model_deploy\", \r\n",
        "                                compute_target=aml_compute_target, \r\n",
        "                                runconfig=runconfig,\r\n",
        "                                allow_reuse=False\r\n",
        "\t                            )\r\n",
        "#deploy_step.run_after(select_step)"
      ],
      "outputs": [],
      "execution_count": 5,
      "metadata": {
        "jupyter": {
          "source_hidden": false,
          "outputs_hidden": false
        },
        "nteract": {
          "transient": {
            "deleting": false
          }
        },
        "gather": {
          "logged": 1646924952184
        }
      }
    },
    {
      "cell_type": "code",
      "source": [
        "from azureml.pipeline.core import StepSequence\r\n",
        "   \r\n",
        "experiment_name = 'MLOps-Workshop'\r\n",
        "\r\n",
        "step_sequence = StepSequence(steps=[deploy_step])\r\n",
        "pipeline = Pipeline(workspace=workspace, steps=step_sequence)\r\n",
        "pipeline_run = Experiment(workspace, experiment_name).submit(pipeline)\r\n",
        "\r\n",
        "print(\"Pipeline is submitted for execution\")"
      ],
      "outputs": [
        {
          "output_type": "stream",
          "name": "stderr",
          "text": "Class KubernetesCompute: This is an experimental class, and may change at any time. Please see https://aka.ms/azuremlexperimental for more information.\n"
        },
        {
          "output_type": "stream",
          "name": "stdout",
          "text": "Created step deploy_model [efc77a4b][dbb75c3d-3f99-4807-b540-feca32cc9554], (This step will run and generate new outputs)\nSubmitted PipelineRun 3c932e68-974f-4ed4-aebf-bc6d1912ab56\nLink to Azure Machine Learning Portal: https://ml.azure.com/runs/3c932e68-974f-4ed4-aebf-bc6d1912ab56?wsid=/subscriptions/2fadeb06-9775-43ec-a256-ae5922c67d60/resourcegroups/mlops/workspaces/datamlops&tid=72f988bf-86f1-41af-91ab-2d7cd011db47\nPipeline is submitted for execution\n"
        }
      ],
      "execution_count": 6,
      "metadata": {
        "jupyter": {
          "source_hidden": false,
          "outputs_hidden": false
        },
        "nteract": {
          "transient": {
            "deleting": false
          }
        },
        "gather": {
          "logged": 1646924957692
        }
      }
    },
    {
      "cell_type": "markdown",
      "source": [
        "## Test Endpoint"
      ],
      "metadata": {
        "nteract": {
          "transient": {
            "deleting": false
          }
        }
      }
    },
    {
      "cell_type": "code",
      "source": [
        "import requests, json\r\n",
        "\r\n",
        "# replace uri below with your service endpoint\r\n",
        "uri = 'http://a9f21b4b-7143-4c8f-8578-58fb141f3a85.westeurope.azurecontainer.io/score'\r\n",
        "\r\n",
        "headers = {\"Content-Type\": \"application/json\"}\r\n",
        "comments = \"\"\"\r\n",
        "\"I've been using Dreamweaver (and it's predecessor Macromedia's UltraDev) for many years.  \r\n",
        "For someone who is an experienced web designer, this course is a high-level review of the CS5 version of Dreamweaver,\r\n",
        " but it doesn't go into a great enough level of detail to find it very useful.\\n\\nOn the other hand, \r\n",
        " this is a great tool for someone who is a relative novice at web design.  \r\n",
        " It starts off with a basic overview of HTML and continues through the concepts necessary to build a modern web site.  \r\n",
        " Someone who goes through this course should exit with enough knowledge to create something that does what \r\n",
        " you want it do do...within reason.  Don't expect to go off and build an entire e-commerce system with only this class \r\n",
        " under your belt.\\n\\nIt's important to note that there's a long gap from site design to actual implementation.  \r\n",
        " This course teaches you how to implement a design.  The user interface and overall user experience is a different \r\n",
        " subject that isn't covered here...it's possible to do a great implementation of an absolutely abysmal design.  \r\n",
        " I speak from experience.  :)\\n\\nAs I said above, if you're a novice, a relative newcomer or just an experienced web \r\n",
        " designer who wants a refresher course, this is a good way to do it.\"\r\n",
        "\"\"\"\r\n",
        "sample_input = json.dumps({\r\n",
        "    'data': [comments]\r\n",
        "})\r\n",
        "response = requests.post(uri, data=sample_input, headers=headers)\r\n",
        "print(response.json())"
      ],
      "outputs": [
        {
          "output_type": "stream",
          "name": "stdout",
          "text": "[4.0]\n"
        }
      ],
      "execution_count": 7,
      "metadata": {
        "jupyter": {
          "source_hidden": false,
          "outputs_hidden": false
        },
        "nteract": {
          "transient": {
            "deleting": false
          }
        },
        "gather": {
          "logged": 1646924957826
        }
      }
    },
    {
      "cell_type": "markdown",
      "source": [
        "## Publish Pipeline"
      ],
      "metadata": {
        "nteract": {
          "transient": {
            "deleting": false
          }
        }
      }
    },
    {
      "cell_type": "code",
      "source": [
        "published_pipeline = pipeline.publish(\r\n",
        "     name=\"MLOps-Workshop-Deploy-Pipeline\",\r\n",
        "     description=\"Published Pipeline for MLOps Workshop\")\r\n"
      ],
      "outputs": [],
      "execution_count": 8,
      "metadata": {
        "jupyter": {
          "source_hidden": false,
          "outputs_hidden": false
        },
        "nteract": {
          "transient": {
            "deleting": false
          }
        },
        "gather": {
          "logged": 1646924959699
        }
      }
    },
    {
      "cell_type": "code",
      "source": [
        "published_pipeline.id"
      ],
      "outputs": [
        {
          "output_type": "execute_result",
          "execution_count": 9,
          "data": {
            "text/plain": "'8d7fe229-d7f5-4302-b460-688023876cf5'"
          },
          "metadata": {}
        }
      ],
      "execution_count": 9,
      "metadata": {
        "jupyter": {
          "source_hidden": false,
          "outputs_hidden": false
        },
        "nteract": {
          "transient": {
            "deleting": false
          }
        },
        "gather": {
          "logged": 1646924959851
        }
      }
    }
  ],
  "metadata": {
    "kernelspec": {
      "name": "python3-azureml",
      "language": "python",
      "display_name": "Python 3.6 - AzureML"
    },
    "language_info": {
      "name": "python",
      "version": "3.6.9",
      "mimetype": "text/x-python",
      "codemirror_mode": {
        "name": "ipython",
        "version": 3
      },
      "pygments_lexer": "ipython3",
      "nbconvert_exporter": "python",
      "file_extension": ".py"
    },
    "kernel_info": {
      "name": "python3-azureml"
    },
    "nteract": {
      "version": "nteract-front-end@1.0.0"
    },
    "microsoft": {
      "host": {
        "AzureML": {
          "notebookHasBeenCompleted": true
        }
      }
    }
  },
  "nbformat": 4,
  "nbformat_minor": 0
}