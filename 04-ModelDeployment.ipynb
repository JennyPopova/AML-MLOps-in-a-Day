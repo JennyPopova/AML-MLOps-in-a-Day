{
  "cells": [
    {
      "cell_type": "markdown",
      "source": [
        "# Model Training & Building\r\n",
        "\r\n",
        "In this step, we are ready to do some experiments and select the best model for production use.\r\n",
        "\r\n",
        "![Training](./images/04-ModelDeployment.jpg)\r\n",
        "\r\n"
      ],
      "metadata": {
        "nteract": {
          "transient": {
            "deleting": false
          }
        }
      }
    },
    {
      "cell_type": "markdown",
      "source": [
        "## Training\r\n",
        "\r\n",
        "**Input** : Registered Model in Model Registry\r\n",
        "\r\n",
        "**Output** : Container Instance / Endpoint (Web Service)"
      ],
      "metadata": {
        "nteract": {
          "transient": {
            "deleting": false
          }
        }
      }
    },
    {
      "cell_type": "markdown",
      "source": [
        "### 1. Load Registered Models"
      ],
      "metadata": {
        "nteract": {
          "transient": {
            "deleting": false
          }
        }
      }
    },
    {
      "cell_type": "code",
      "source": [
        "from azureml.core import Workspace\r\n",
        "from azureml.core.model import Model\r\n",
        "import sklearn\r\n",
        "\r\n",
        "# Get workspace from run context\r\n",
        "workspace = Workspace.from_config()\r\n",
        "\r\n",
        "# Load Data\r\n",
        "nb_model = Model(workspace, 'ProductReview-NaiveBayes')\r\n",
        "vectorizor = Model(workspace, 'ProductReview-CountVector')\r\n"
      ],
      "outputs": [],
      "execution_count": 1,
      "metadata": {
        "jupyter": {
          "source_hidden": false,
          "outputs_hidden": false
        },
        "nteract": {
          "transient": {
            "deleting": false
          }
        },
        "gather": {
          "logged": 1646852978777
        }
      }
    },
    {
      "cell_type": "markdown",
      "source": [
        "### 2. Prepare score.py"
      ],
      "metadata": {
        "nteract": {
          "transient": {
            "deleting": false
          }
        }
      }
    },
    {
      "cell_type": "code",
      "source": [
        "import os\r\n",
        "if not os.path.exists('inference'):\r\n",
        "    os.makedirs('inference')"
      ],
      "outputs": [],
      "execution_count": 2,
      "metadata": {
        "jupyter": {
          "source_hidden": false,
          "outputs_hidden": false
        },
        "nteract": {
          "transient": {
            "deleting": false
          }
        },
        "gather": {
          "logged": 1646852978932
        }
      }
    },
    {
      "cell_type": "code",
      "source": [
        "%%writefile inference/score.py\r\n",
        "import json, os, joblib\r\n",
        "from azureml.core.model import Model\r\n",
        "\r\n",
        "def init(): \r\n",
        "  global vec, clf\r\n",
        "  print(Model.get_model_path('ProductReview-NaiveBayes'))\r\n",
        "  vec = joblib.load(Model.get_model_path('ProductReview-CountVector'))\r\n",
        "  clf = joblib.load(Model.get_model_path('ProductReview-NaiveBayes'))\r\n",
        "\r\n",
        "def run(data): \r\n",
        "  input_data = json.loads(data)['data'] \r\n",
        "  fitted_data = vec.transform(input_data)\r\n",
        "  pred = clf.predict(fitted_data)\r\n",
        "  return json.dumps(pred.tolist())\r\n"
      ],
      "outputs": [
        {
          "output_type": "stream",
          "name": "stdout",
          "text": "Writing inference/score.py\n"
        }
      ],
      "execution_count": 3,
      "metadata": {
        "jupyter": {
          "source_hidden": false,
          "outputs_hidden": false
        },
        "nteract": {
          "transient": {
            "deleting": false
          }
        }
      }
    },
    {
      "cell_type": "markdown",
      "source": [
        "### 3. Inference Config"
      ],
      "metadata": {
        "nteract": {
          "transient": {
            "deleting": false
          }
        }
      }
    },
    {
      "cell_type": "code",
      "source": [
        "from azureml.core.model import InferenceConfig\r\n",
        "from azureml.core import Environment\r\n",
        "\r\n",
        "service_name = 'product-review-service'\r\n",
        "env = Environment.get(workspace=workspace, name=\"AzureML-sklearn-0.24-ubuntu18.04-py37-cpu\")\r\n",
        "\r\n",
        "inference_config = InferenceConfig(entry_script='score.py', \r\n",
        "                            source_directory='./inference',\r\n",
        "                            environment=env)"
      ],
      "outputs": [
        {
          "output_type": "stream",
          "name": "stderr",
          "text": "Warning, custom base image or base dockerfile detected without a specified `inferencing_stack_version`. Please set environment.inferencing_stack_version='latest'\n"
        }
      ],
      "execution_count": 4,
      "metadata": {
        "jupyter": {
          "source_hidden": false,
          "outputs_hidden": false
        },
        "nteract": {
          "transient": {
            "deleting": false
          }
        },
        "gather": {
          "logged": 1646852979205
        }
      }
    },
    {
      "cell_type": "markdown",
      "source": [
        "### 4. Deployment Config"
      ],
      "metadata": {
        "nteract": {
          "transient": {
            "deleting": false
          }
        }
      }
    },
    {
      "cell_type": "code",
      "source": [
        "from azureml.core.webservice import AciWebservice\r\n",
        "from azureml.core.webservice import LocalWebservice\r\n",
        "\r\n",
        "deployment_config = LocalWebservice.deploy_configuration(port=6789)\r\n",
        "\r\n",
        "service = Model.deploy(\r\n",
        "    workspace,\r\n",
        "    name = service_name,\r\n",
        "    models=[nb_model, vectorizor],\r\n",
        "    inference_config= inference_config,\r\n",
        "    deployment_config= deployment_config,\r\n",
        "    overwrite=True,\r\n",
        ")\r\n",
        "service.wait_for_deployment(show_output=True)"
      ],
      "outputs": [
        {
          "output_type": "stream",
          "name": "stdout",
          "text": "Downloading model ProductReview-NaiveBayes:8 to /tmp/azureml_eallu0tt/ProductReview-NaiveBayes/8\nDownloading model ProductReview-CountVector:8 to /tmp/azureml_eallu0tt/ProductReview-CountVector/8\nGenerating Docker build context.\nPackage creation Succeeded\nLogging into Docker registry viennaglobal.azurecr.io\nLogging into Docker registry viennaglobal.azurecr.io\nBuilding Docker image from Dockerfile...\nStep 1/5 : FROM viennaglobal.azurecr.io/azureml/azureml_7d6714c3a8f38f980b9bab96c4ffb9d7\n ---> 3f54955d8696\nStep 2/5 : COPY azureml-app /var/azureml-app\n ---> c8128fc9de46\nStep 3/5 : RUN mkdir -p '/var/azureml-app' && echo eyJhY2NvdW50Q29udGV4dCI6eyJzdWJzY3JpcHRpb25JZCI6IjJmYWRlYjA2LTk3NzUtNDNlYy1hMjU2LWFlNTkyMmM2N2Q2MCIsInJlc291cmNlR3JvdXBOYW1lIjoibWxvcHMiLCJhY2NvdW50TmFtZSI6ImRhdGFtbG9wcyIsIndvcmtzcGFjZUlkIjoiOTgxYmFlYmMtODlmNS00NTMwLTg1NmMtZmNkY2Q0Mjk3NmQwIn0sIm1vZGVscyI6e30sIm1vZGVsc0luZm8iOnt9fQ== | base64 --decode > /var/azureml-app/model_config_map.json\n ---> Running in fe2e6edb2d3b\n ---> 5e4f2bf34e24\nStep 4/5 : RUN mv '/var/azureml-app/tmp100m2wfr.py' /var/azureml-app/main.py\n ---> Running in 5b0feaa76c13\n ---> 8cd043cfd793\nStep 5/5 : CMD [\"runsvdir\",\"/var/runit\"]\n ---> Running in 3660aef914ac\n ---> eb9767f0b2f5\nSuccessfully built eb9767f0b2f5\nSuccessfully tagged product-review-service:latest\nStarting Docker container...\nDocker container running.\nChecking container health...\nLocal webservice is running at http://localhost:6789\n"
        }
      ],
      "execution_count": 5,
      "metadata": {
        "jupyter": {
          "source_hidden": false,
          "outputs_hidden": false
        },
        "nteract": {
          "transient": {
            "deleting": false
          }
        },
        "gather": {
          "logged": 1646853048660
        }
      }
    },
    {
      "cell_type": "markdown",
      "source": [
        "### 5. Test Endpoint - Call REST API"
      ],
      "metadata": {
        "nteract": {
          "transient": {
            "deleting": false
          }
        }
      }
    },
    {
      "cell_type": "code",
      "source": [
        "import requests, json\r\n",
        "\r\n",
        "uri = service.scoring_uri\r\n",
        "headers = {\"Content-Type\": \"application/json\"}\r\n",
        "comments = \"\"\"\r\n",
        "\"I've been using Dreamweaver (and it's predecessor Macromedia's UltraDev) for many years.  \r\n",
        "For someone who is an experienced web designer, this course is a high-level review of the CS5 version of Dreamweaver,\r\n",
        " but it doesn't go into a great enough level of detail to find it very useful.\\n\\nOn the other hand, \r\n",
        " this is a great tool for someone who is a relative novice at web design.  \r\n",
        " It starts off with a basic overview of HTML and continues through the concepts necessary to build a modern web site.  \r\n",
        " Someone who goes through this course should exit with enough knowledge to create something that does what \r\n",
        " you want it do do...within reason.  Don't expect to go off and build an entire e-commerce system with only this class \r\n",
        " under your belt.\\n\\nIt's important to note that there's a long gap from site design to actual implementation.  \r\n",
        " This course teaches you how to implement a design.  The user interface and overall user experience is a different \r\n",
        " subject that isn't covered here...it's possible to do a great implementation of an absolutely abysmal design.  \r\n",
        " I speak from experience.  :)\\n\\nAs I said above, if you're a novice, a relative newcomer or just an experienced web \r\n",
        " designer who wants a refresher course, this is a good way to do it.\"\r\n",
        "\"\"\"\r\n",
        "sample_input = json.dumps({\r\n",
        "    'data': [comments]\r\n",
        "})\r\n",
        "response = requests.post(uri, data=sample_input, headers=headers)\r\n",
        "print(response.json())"
      ],
      "outputs": [
        {
          "output_type": "stream",
          "name": "stdout",
          "text": "[4.0]\n"
        }
      ],
      "execution_count": 6,
      "metadata": {
        "jupyter": {
          "source_hidden": false,
          "outputs_hidden": false
        },
        "nteract": {
          "transient": {
            "deleting": false
          }
        },
        "gather": {
          "logged": 1646853048833
        }
      }
    },
    {
      "cell_type": "markdown",
      "source": [
        "### Use Service Run Function"
      ],
      "metadata": {
        "nteract": {
          "transient": {
            "deleting": false
          }
        }
      }
    },
    {
      "cell_type": "code",
      "source": [
        "print(service.run(sample_input))"
      ],
      "outputs": [
        {
          "output_type": "stream",
          "name": "stdout",
          "text": "[4.0]\n"
        }
      ],
      "execution_count": 7,
      "metadata": {
        "jupyter": {
          "source_hidden": false,
          "outputs_hidden": false
        },
        "nteract": {
          "transient": {
            "deleting": false
          }
        },
        "gather": {
          "logged": 1646853048987
        }
      }
    }
  ],
  "metadata": {
    "kernelspec": {
      "name": "python3-azureml",
      "language": "python",
      "display_name": "Python 3.6 - AzureML"
    },
    "language_info": {
      "name": "python",
      "version": "3.6.9",
      "mimetype": "text/x-python",
      "codemirror_mode": {
        "name": "ipython",
        "version": 3
      },
      "pygments_lexer": "ipython3",
      "nbconvert_exporter": "python",
      "file_extension": ".py"
    },
    "kernel_info": {
      "name": "python3-azureml"
    },
    "microsoft": {
      "host": {
        "AzureML": {
          "notebookHasBeenCompleted": true
        }
      }
    },
    "nteract": {
      "version": "nteract-front-end@1.0.0"
    }
  },
  "nbformat": 4,
  "nbformat_minor": 0
}